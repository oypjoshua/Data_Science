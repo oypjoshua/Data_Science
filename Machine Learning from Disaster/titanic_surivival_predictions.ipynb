{
 "cells": [
  {
   "cell_type": "code",
   "execution_count": 72,
   "metadata": {
    "_cell_guid": "b1076dfc-b9ad-4769-8c92-a6c4dae69d19",
    "_uuid": "8f2839f25d086af736a60e9eeb907d3b93b6e0e5",
    "execution": {
     "iopub.execute_input": "2021-05-24T13:32:47.807427Z",
     "iopub.status.busy": "2021-05-24T13:32:47.807107Z",
     "iopub.status.idle": "2021-05-24T13:32:47.817054Z",
     "shell.execute_reply": "2021-05-24T13:32:47.815629Z",
     "shell.execute_reply.started": "2021-05-24T13:32:47.807399Z"
    }
   },
   "outputs": [
    {
     "name": "stdout",
     "output_type": "stream",
     "text": [
      "/kaggle/input/titanic/train.csv\n",
      "/kaggle/input/titanic/test.csv\n",
      "/kaggle/input/titanic/gender_submission.csv\n"
     ]
    }
   ],
   "source": [
    "# This Python 3 environment comes with many helpful analytics libraries installed\n",
    "# It is defined by the kaggle/python Docker image: https://github.com/kaggle/docker-python\n",
    "# For example, here's several helpful packages to load\n",
    "\n",
    "import numpy as np # linear algebra\n",
    "import pandas as pd # data processing, CSV file I/O (e.g. pd.read_csv)\n",
    "import seaborn as sns \n",
    "import matplotlib.pyplot as plt\n",
    "\n",
    "# Input data files are available in the read-only \"../input/\" directory\n",
    "# For example, running this (by clicking run or pressing Shift+Enter) will list all files under the input directory\n",
    "\n",
    "import os\n",
    "for dirname, _, filenames in os.walk('/kaggle/input'):\n",
    "    for filename in filenames:\n",
    "        print(os.path.join(dirname, filename))\n",
    "\n",
    "# You can write up to 20GB to the current directory (/kaggle/working/) that gets preserved as output when you create a version using \"Save & Run All\" \n",
    "# You can also write temporary files to /kaggle/temp/, but they won't be saved outside of the current session"
   ]
  },
  {
   "cell_type": "code",
   "execution_count": 73,
   "metadata": {
    "execution": {
     "iopub.execute_input": "2021-05-24T13:32:47.822497Z",
     "iopub.status.busy": "2021-05-24T13:32:47.822173Z",
     "iopub.status.idle": "2021-05-24T13:32:47.854447Z",
     "shell.execute_reply": "2021-05-24T13:32:47.853313Z",
     "shell.execute_reply.started": "2021-05-24T13:32:47.822469Z"
    }
   },
   "outputs": [
    {
     "data": {
      "text/plain": [
       "Index(['PassengerId', 'Survived', 'Pclass', 'Name', 'Sex', 'Age', 'SibSp',\n",
       "       'Parch', 'Ticket', 'Fare', 'Cabin', 'Embarked', 'train_test'],\n",
       "      dtype='object')"
      ]
     },
     "execution_count": 73,
     "metadata": {},
     "output_type": "execute_result"
    }
   ],
   "source": [
    "training = pd.read_csv('/kaggle/input/titanic/train.csv')\n",
    "test = pd.read_csv('/kaggle/input/titanic/test.csv')\n",
    "\n",
    "training['train_test'] = 1\n",
    "test['train_test'] = 0\n",
    "test['Survived'] = np.NaN\n",
    "all_data = pd.concat([training,test])\n",
    "\n",
    "%matplotlib inline\n",
    "all_data.columns"
   ]
  },
  {
   "cell_type": "markdown",
   "metadata": {},
   "source": [
    "#project outline"
   ]
  },
  {
   "cell_type": "markdown",
   "metadata": {},
   "source": [
    "**Data Exploration**\n",
    "\n",
    "Here we explore the data, using pivot tables and barplots/histograms to allow us to visualise the dataset more clearly. Further investigation would then allow us to do some feature engineering to better equip ourselves in creating a suitable model for the training dataset, which we will then use on the test set.\n",
    "\n",
    "Firstly, we note that some of the column names are not clear, and hence provide the below clarification:\n",
    "\n",
    "- Survived - Survival (0 = No; 1 = Yes)\n",
    "- Pclass - Passenger Class (1 = 1st; 2 = 2nd; 3 = 3rd)\n",
    "- Sibsp - Number of Siblings/Spouses Aboard\n",
    "- Parch - Number of Parents/Children Aboard\n",
    "- Ticket - Ticket Number\n",
    "- Embarked - Port of Embarkation (C = Cherbourg; Q = Queenstown; S = Southampton)\n"
   ]
  },
  {
   "cell_type": "code",
   "execution_count": 74,
   "metadata": {
    "execution": {
     "iopub.execute_input": "2021-05-24T13:32:47.856478Z",
     "iopub.status.busy": "2021-05-24T13:32:47.856168Z",
     "iopub.status.idle": "2021-05-24T13:32:47.872179Z",
     "shell.execute_reply": "2021-05-24T13:32:47.870863Z",
     "shell.execute_reply.started": "2021-05-24T13:32:47.856450Z"
    }
   },
   "outputs": [
    {
     "name": "stdout",
     "output_type": "stream",
     "text": [
      "<class 'pandas.core.frame.DataFrame'>\n",
      "RangeIndex: 891 entries, 0 to 890\n",
      "Data columns (total 13 columns):\n",
      " #   Column       Non-Null Count  Dtype  \n",
      "---  ------       --------------  -----  \n",
      " 0   PassengerId  891 non-null    int64  \n",
      " 1   Survived     891 non-null    int64  \n",
      " 2   Pclass       891 non-null    int64  \n",
      " 3   Name         891 non-null    object \n",
      " 4   Sex          891 non-null    object \n",
      " 5   Age          714 non-null    float64\n",
      " 6   SibSp        891 non-null    int64  \n",
      " 7   Parch        891 non-null    int64  \n",
      " 8   Ticket       891 non-null    object \n",
      " 9   Fare         891 non-null    float64\n",
      " 10  Cabin        204 non-null    object \n",
      " 11  Embarked     889 non-null    object \n",
      " 12  train_test   891 non-null    int64  \n",
      "dtypes: float64(2), int64(6), object(5)\n",
      "memory usage: 90.6+ KB\n"
     ]
    }
   ],
   "source": [
    "training.info()"
   ]
  },
  {
   "cell_type": "code",
   "execution_count": 75,
   "metadata": {
    "execution": {
     "iopub.execute_input": "2021-05-24T13:32:47.874547Z",
     "iopub.status.busy": "2021-05-24T13:32:47.873959Z",
     "iopub.status.idle": "2021-05-24T13:32:47.917614Z",
     "shell.execute_reply": "2021-05-24T13:32:47.916583Z",
     "shell.execute_reply.started": "2021-05-24T13:32:47.874502Z"
    }
   },
   "outputs": [
    {
     "data": {
      "text/html": [
       "<div>\n",
       "<style scoped>\n",
       "    .dataframe tbody tr th:only-of-type {\n",
       "        vertical-align: middle;\n",
       "    }\n",
       "\n",
       "    .dataframe tbody tr th {\n",
       "        vertical-align: top;\n",
       "    }\n",
       "\n",
       "    .dataframe thead th {\n",
       "        text-align: right;\n",
       "    }\n",
       "</style>\n",
       "<table border=\"1\" class=\"dataframe\">\n",
       "  <thead>\n",
       "    <tr style=\"text-align: right;\">\n",
       "      <th></th>\n",
       "      <th>PassengerId</th>\n",
       "      <th>Survived</th>\n",
       "      <th>Pclass</th>\n",
       "      <th>Age</th>\n",
       "      <th>SibSp</th>\n",
       "      <th>Parch</th>\n",
       "      <th>Fare</th>\n",
       "      <th>train_test</th>\n",
       "    </tr>\n",
       "  </thead>\n",
       "  <tbody>\n",
       "    <tr>\n",
       "      <th>count</th>\n",
       "      <td>891.000000</td>\n",
       "      <td>891.000000</td>\n",
       "      <td>891.000000</td>\n",
       "      <td>714.000000</td>\n",
       "      <td>891.000000</td>\n",
       "      <td>891.000000</td>\n",
       "      <td>891.000000</td>\n",
       "      <td>891.0</td>\n",
       "    </tr>\n",
       "    <tr>\n",
       "      <th>mean</th>\n",
       "      <td>446.000000</td>\n",
       "      <td>0.383838</td>\n",
       "      <td>2.308642</td>\n",
       "      <td>29.699118</td>\n",
       "      <td>0.523008</td>\n",
       "      <td>0.381594</td>\n",
       "      <td>32.204208</td>\n",
       "      <td>1.0</td>\n",
       "    </tr>\n",
       "    <tr>\n",
       "      <th>std</th>\n",
       "      <td>257.353842</td>\n",
       "      <td>0.486592</td>\n",
       "      <td>0.836071</td>\n",
       "      <td>14.526497</td>\n",
       "      <td>1.102743</td>\n",
       "      <td>0.806057</td>\n",
       "      <td>49.693429</td>\n",
       "      <td>0.0</td>\n",
       "    </tr>\n",
       "    <tr>\n",
       "      <th>min</th>\n",
       "      <td>1.000000</td>\n",
       "      <td>0.000000</td>\n",
       "      <td>1.000000</td>\n",
       "      <td>0.420000</td>\n",
       "      <td>0.000000</td>\n",
       "      <td>0.000000</td>\n",
       "      <td>0.000000</td>\n",
       "      <td>1.0</td>\n",
       "    </tr>\n",
       "    <tr>\n",
       "      <th>25%</th>\n",
       "      <td>223.500000</td>\n",
       "      <td>0.000000</td>\n",
       "      <td>2.000000</td>\n",
       "      <td>20.125000</td>\n",
       "      <td>0.000000</td>\n",
       "      <td>0.000000</td>\n",
       "      <td>7.910400</td>\n",
       "      <td>1.0</td>\n",
       "    </tr>\n",
       "    <tr>\n",
       "      <th>50%</th>\n",
       "      <td>446.000000</td>\n",
       "      <td>0.000000</td>\n",
       "      <td>3.000000</td>\n",
       "      <td>28.000000</td>\n",
       "      <td>0.000000</td>\n",
       "      <td>0.000000</td>\n",
       "      <td>14.454200</td>\n",
       "      <td>1.0</td>\n",
       "    </tr>\n",
       "    <tr>\n",
       "      <th>75%</th>\n",
       "      <td>668.500000</td>\n",
       "      <td>1.000000</td>\n",
       "      <td>3.000000</td>\n",
       "      <td>38.000000</td>\n",
       "      <td>1.000000</td>\n",
       "      <td>0.000000</td>\n",
       "      <td>31.000000</td>\n",
       "      <td>1.0</td>\n",
       "    </tr>\n",
       "    <tr>\n",
       "      <th>max</th>\n",
       "      <td>891.000000</td>\n",
       "      <td>1.000000</td>\n",
       "      <td>3.000000</td>\n",
       "      <td>80.000000</td>\n",
       "      <td>8.000000</td>\n",
       "      <td>6.000000</td>\n",
       "      <td>512.329200</td>\n",
       "      <td>1.0</td>\n",
       "    </tr>\n",
       "  </tbody>\n",
       "</table>\n",
       "</div>"
      ],
      "text/plain": [
       "       PassengerId    Survived      Pclass         Age       SibSp  \\\n",
       "count   891.000000  891.000000  891.000000  714.000000  891.000000   \n",
       "mean    446.000000    0.383838    2.308642   29.699118    0.523008   \n",
       "std     257.353842    0.486592    0.836071   14.526497    1.102743   \n",
       "min       1.000000    0.000000    1.000000    0.420000    0.000000   \n",
       "25%     223.500000    0.000000    2.000000   20.125000    0.000000   \n",
       "50%     446.000000    0.000000    3.000000   28.000000    0.000000   \n",
       "75%     668.500000    1.000000    3.000000   38.000000    1.000000   \n",
       "max     891.000000    1.000000    3.000000   80.000000    8.000000   \n",
       "\n",
       "            Parch        Fare  train_test  \n",
       "count  891.000000  891.000000       891.0  \n",
       "mean     0.381594   32.204208         1.0  \n",
       "std      0.806057   49.693429         0.0  \n",
       "min      0.000000    0.000000         1.0  \n",
       "25%      0.000000    7.910400         1.0  \n",
       "50%      0.000000   14.454200         1.0  \n",
       "75%      0.000000   31.000000         1.0  \n",
       "max      6.000000  512.329200         1.0  "
      ]
     },
     "execution_count": 75,
     "metadata": {},
     "output_type": "execute_result"
    }
   ],
   "source": [
    "training.describe()"
   ]
  },
  {
   "cell_type": "code",
   "execution_count": 76,
   "metadata": {
    "execution": {
     "iopub.execute_input": "2021-05-24T13:32:47.919498Z",
     "iopub.status.busy": "2021-05-24T13:32:47.919223Z",
     "iopub.status.idle": "2021-05-24T13:32:48.484572Z",
     "shell.execute_reply": "2021-05-24T13:32:48.483556Z",
     "shell.execute_reply.started": "2021-05-24T13:32:47.919468Z"
    }
   },
   "outputs": [
    {
     "data": {
      "image/png": "[encoded data removed]",
      "text/plain": [
       "<Figure size 432x288 with 1 Axes>"
      ]
     },
     "metadata": {
      "needs_background": "light"
     },
     "output_type": "display_data"
    },
    {
     "data": {
      "image/png": "[encoded data removed]",
      "text/plain": [
       "<Figure size 432x288 with 1 Axes>"
      ]
     },
     "metadata": {
      "needs_background": "light"
     },
     "output_type": "display_data"
    },
    {
     "data": {
      "image/png": "[encoded data removed]",
      "text/plain": [
       "<Figure size 432x288 with 1 Axes>"
      ]
     },
     "metadata": {
      "needs_background": "light"
     },
     "output_type": "display_data"
    },
    {
     "data": {
      "image/png": "[encoded data removed]",
      "text/plain": [
       "<Figure size 432x288 with 1 Axes>"
      ]
     },
     "metadata": {
      "needs_background": "light"
     },
     "output_type": "display_data"
    }
   ],
   "source": [
    "# training.columns\n",
    "# we note that we can split the data into numerical and categorical variables.\n",
    "# this is important for visualisation as we want to visualise them with separate methods.\n",
    "training_numerical = training[['Age', 'SibSp','Parch', 'Fare']]\n",
    "# categorical data: ['Survived','Pclass','Sex','Embarked', 'Ticket', 'Cabin']\n",
    "\n",
    "for i in training_numerical.columns:\n",
    "    plt.hist(training_numerical[i])\n",
    "    plt.title(i)\n",
    "    plt.show()"
   ]
  },
  {
   "cell_type": "code",
   "execution_count": 77,
   "metadata": {
    "execution": {
     "iopub.execute_input": "2021-05-24T13:32:48.486170Z",
     "iopub.status.busy": "2021-05-24T13:32:48.485906Z",
     "iopub.status.idle": "2021-05-24T13:32:48.719852Z",
     "shell.execute_reply": "2021-05-24T13:32:48.718875Z",
     "shell.execute_reply.started": "2021-05-24T13:32:48.486145Z"
    }
   },
   "outputs": [
    {
     "data": {
      "image/png": "[encoded data removed]",
      "text/plain": [
       "<Figure size 576x288 with 2 Axes>"
      ]
     },
     "metadata": {
      "needs_background": "light"
     },
     "output_type": "display_data"
    }
   ],
   "source": [
    "plt.figure(figsize=(8, 4))\n",
    "heatmap = sns.heatmap(training_numerical.corr(), vmin=-1, vmax=1, annot=True, cmap='BrBG')\n",
    "heatmap.set_title('Correlation Heatmap', fontdict={'fontsize':18}, pad=12);"
   ]
  },
  {
   "cell_type": "code",
   "execution_count": 78,
   "metadata": {
    "execution": {
     "iopub.execute_input": "2021-05-24T13:32:48.721663Z",
     "iopub.status.busy": "2021-05-24T13:32:48.721274Z",
     "iopub.status.idle": "2021-05-24T13:32:48.736391Z",
     "shell.execute_reply": "2021-05-24T13:32:48.734771Z",
     "shell.execute_reply.started": "2021-05-24T13:32:48.721589Z"
    }
   },
   "outputs": [
    {
     "data": {
      "text/plain": [
       "Parch  Survived\n",
       "0      1            1\n",
       "1      0           12\n",
       "       1           23\n",
       "2      0           12\n",
       "       1           14\n",
       "dtype: int64"
      ]
     },
     "execution_count": 78,
     "metadata": {},
     "output_type": "execute_result"
    }
   ],
   "source": [
    "under_10 = training[training['Age'] < 10]\n",
    "under_10.groupby([ 'Parch', 'Survived']).size()\n",
    "\n",
    "#training[(training['Age'] < 10) & (training['Parch'] == 0)]"
   ]
  },
  {
   "cell_type": "code",
   "execution_count": 79,
   "metadata": {
    "execution": {
     "iopub.execute_input": "2021-05-24T13:32:48.738531Z",
     "iopub.status.busy": "2021-05-24T13:32:48.738074Z",
     "iopub.status.idle": "2021-05-24T13:32:48.763119Z",
     "shell.execute_reply": "2021-05-24T13:32:48.761680Z",
     "shell.execute_reply.started": "2021-05-24T13:32:48.738488Z"
    }
   },
   "outputs": [
    {
     "data": {
      "text/html": [
       "<div>\n",
       "<style scoped>\n",
       "    .dataframe tbody tr th:only-of-type {\n",
       "        vertical-align: middle;\n",
       "    }\n",
       "\n",
       "    .dataframe tbody tr th {\n",
       "        vertical-align: top;\n",
       "    }\n",
       "\n",
       "    .dataframe thead th {\n",
       "        text-align: right;\n",
       "    }\n",
       "</style>\n",
       "<table border=\"1\" class=\"dataframe\">\n",
       "  <thead>\n",
       "    <tr style=\"text-align: right;\">\n",
       "      <th></th>\n",
       "      <th>Age</th>\n",
       "      <th>Fare</th>\n",
       "      <th>Parch</th>\n",
       "      <th>SibSp</th>\n",
       "    </tr>\n",
       "    <tr>\n",
       "      <th>Survived</th>\n",
       "      <th></th>\n",
       "      <th></th>\n",
       "      <th></th>\n",
       "      <th></th>\n",
       "    </tr>\n",
       "  </thead>\n",
       "  <tbody>\n",
       "    <tr>\n",
       "      <th>0</th>\n",
       "      <td>30.626179</td>\n",
       "      <td>22.117887</td>\n",
       "      <td>0.329690</td>\n",
       "      <td>0.553734</td>\n",
       "    </tr>\n",
       "    <tr>\n",
       "      <th>1</th>\n",
       "      <td>28.343690</td>\n",
       "      <td>48.395408</td>\n",
       "      <td>0.464912</td>\n",
       "      <td>0.473684</td>\n",
       "    </tr>\n",
       "  </tbody>\n",
       "</table>\n",
       "</div>"
      ],
      "text/plain": [
       "                Age       Fare     Parch     SibSp\n",
       "Survived                                          \n",
       "0         30.626179  22.117887  0.329690  0.553734\n",
       "1         28.343690  48.395408  0.464912  0.473684"
      ]
     },
     "execution_count": 79,
     "metadata": {},
     "output_type": "execute_result"
    }
   ],
   "source": [
    "pd.pivot_table(training, index = 'Survived', values = ['Age','SibSp','Parch','Fare'])"
   ]
  },
  {
   "cell_type": "code",
   "execution_count": 80,
   "metadata": {
    "execution": {
     "iopub.execute_input": "2021-05-24T13:32:48.766776Z",
     "iopub.status.busy": "2021-05-24T13:32:48.766350Z",
     "iopub.status.idle": "2021-05-24T13:32:49.025780Z",
     "shell.execute_reply": "2021-05-24T13:32:49.024482Z",
     "shell.execute_reply.started": "2021-05-24T13:32:48.766742Z"
    }
   },
   "outputs": [
    {
     "name": "stderr",
     "output_type": "stream",
     "text": [
      "/opt/conda/lib/python3.7/site-packages/seaborn/_decorators.py:43: FutureWarning: Pass the following variables as keyword args: x, y. From version 0.12, the only valid positional argument will be `data`, and passing other arguments without an explicit keyword will result in an error or misinterpretation.\n",
      "  FutureWarning\n"
     ]
    },
    {
     "data": {
      "text/plain": [
       "<AxesSubplot:ylabel='Survived'>"
      ]
     },
     "execution_count": 80,
     "metadata": {},
     "output_type": "execute_result"
    },
    {
     "data": {
      "image/png": "[encoded data removed]",
      "text/plain": [
       "<Figure size 432x288 with 1 Axes>"
      ]
     },
     "metadata": {
      "needs_background": "light"
     },
     "output_type": "display_data"
    }
   ],
   "source": [
    "sns.barplot(training['Survived'].value_counts().index, training['Survived'].value_counts())"
   ]
  },
  {
   "cell_type": "code",
   "execution_count": 81,
   "metadata": {
    "execution": {
     "iopub.execute_input": "2021-05-24T13:32:49.028290Z",
     "iopub.status.busy": "2021-05-24T13:32:49.027686Z",
     "iopub.status.idle": "2021-05-24T13:32:49.203810Z",
     "shell.execute_reply": "2021-05-24T13:32:49.202353Z",
     "shell.execute_reply.started": "2021-05-24T13:32:49.028234Z"
    }
   },
   "outputs": [
    {
     "name": "stderr",
     "output_type": "stream",
     "text": [
      "/opt/conda/lib/python3.7/site-packages/seaborn/_decorators.py:43: FutureWarning: Pass the following variables as keyword args: x, y. From version 0.12, the only valid positional argument will be `data`, and passing other arguments without an explicit keyword will result in an error or misinterpretation.\n",
      "  FutureWarning\n"
     ]
    },
    {
     "data": {
      "text/plain": [
       "Pclass  Survived\n",
       "1       0            80\n",
       "        1           136\n",
       "2       0            97\n",
       "        1            87\n",
       "3       0           372\n",
       "        1           119\n",
       "dtype: int64"
      ]
     },
     "execution_count": 81,
     "metadata": {},
     "output_type": "execute_result"
    },
    {
     "data": {
      "image/png": "[encoded data removed]",
      "text/plain": [
       "<Figure size 432x288 with 1 Axes>"
      ]
     },
     "metadata": {
      "needs_background": "light"
     },
     "output_type": "display_data"
    }
   ],
   "source": [
    "Pclass_y = []\n",
    "Pclass_x = [1,1,2,2,3,3]\n",
    "Survived = ['Perished', 'Survived','Perished', 'Survived','Perished', 'Survived',]\n",
    "for i in range(1,4):\n",
    "    for j in range(2):\n",
    "        Pclass_y.append(training[(training['Pclass'] == i) & (training['Survived'] == j)].Name.count())\n",
    "        #print(Pclass_list)\n",
    "sns.barplot(Pclass_x, Pclass_y, hue = Survived).set_title('Pclass')\n",
    "training.groupby(['Pclass', 'Survived']).size()"
   ]
  },
  {
   "cell_type": "code",
   "execution_count": 82,
   "metadata": {
    "execution": {
     "iopub.execute_input": "2021-05-24T13:32:49.205249Z",
     "iopub.status.busy": "2021-05-24T13:32:49.204965Z",
     "iopub.status.idle": "2021-05-24T13:32:49.357700Z",
     "shell.execute_reply": "2021-05-24T13:32:49.356762Z",
     "shell.execute_reply.started": "2021-05-24T13:32:49.205222Z"
    }
   },
   "outputs": [
    {
     "name": "stderr",
     "output_type": "stream",
     "text": [
      "/opt/conda/lib/python3.7/site-packages/seaborn/_decorators.py:43: FutureWarning: Pass the following variables as keyword args: x, y. From version 0.12, the only valid positional argument will be `data`, and passing other arguments without an explicit keyword will result in an error or misinterpretation.\n",
      "  FutureWarning\n"
     ]
    },
    {
     "data": {
      "text/plain": [
       "Sex     Survived\n",
       "female  0            81\n",
       "        1           233\n",
       "male    0           468\n",
       "        1           109\n",
       "dtype: int64"
      ]
     },
     "execution_count": 82,
     "metadata": {},
     "output_type": "execute_result"
    },
    {
     "data": {
      "image/png": "[encoded data removed]",
      "text/plain": [
       "<Figure size 432x288 with 1 Axes>"
      ]
     },
     "metadata": {
      "needs_background": "light"
     },
     "output_type": "display_data"
    }
   ],
   "source": [
    "Sex_y = []\n",
    "Sex_x = ['Male', 'Male', 'Female', 'Female']\n",
    "Survived = ['Perished', 'Survived', 'Perished', 'Survived']\n",
    "for i in ['male', 'female']:\n",
    "    for j in range(2):\n",
    "        Sex_y.append(training[(training['Sex'] == i) & (training['Survived'] == j)].Name.count())\n",
    "\n",
    "sns.barplot(Sex_x, Sex_y, hue = Survived).set_title('Sex')\n",
    "training.groupby(['Sex', 'Survived']).size()"
   ]
  },
  {
   "cell_type": "code",
   "execution_count": 83,
   "metadata": {
    "execution": {
     "iopub.execute_input": "2021-05-24T13:32:49.359286Z",
     "iopub.status.busy": "2021-05-24T13:32:49.358999Z",
     "iopub.status.idle": "2021-05-24T13:32:49.535704Z",
     "shell.execute_reply": "2021-05-24T13:32:49.534744Z",
     "shell.execute_reply.started": "2021-05-24T13:32:49.359260Z"
    }
   },
   "outputs": [
    {
     "name": "stderr",
     "output_type": "stream",
     "text": [
      "/opt/conda/lib/python3.7/site-packages/seaborn/_decorators.py:43: FutureWarning: Pass the following variables as keyword args: x, y. From version 0.12, the only valid positional argument will be `data`, and passing other arguments without an explicit keyword will result in an error or misinterpretation.\n",
      "  FutureWarning\n"
     ]
    },
    {
     "data": {
      "text/plain": [
       "Embarked  Survived\n",
       "C         0            75\n",
       "          1            93\n",
       "Q         0            47\n",
       "          1            30\n",
       "S         0           427\n",
       "          1           217\n",
       "dtype: int64"
      ]
     },
     "execution_count": 83,
     "metadata": {},
     "output_type": "execute_result"
    },
    {
     "data": {
      "image/png": "[encoded data removed]",
      "text/plain": [
       "<Figure size 432x288 with 1 Axes>"
      ]
     },
     "metadata": {
      "needs_background": "light"
     },
     "output_type": "display_data"
    }
   ],
   "source": [
    "Embarked_y = []\n",
    "Embarked_x = ['S', 'S', 'C', 'C', 'Q', 'Q']\n",
    "Survived = ['Perished', 'Survived', 'Perished', 'Survived', 'Perished', 'Survived']\n",
    "for i in ['S', 'C', 'Q']:\n",
    "    for j in range(2):\n",
    "        Embarked_y.append(training[(training['Embarked'] == i) & (training['Survived'] == j)].Name.count())\n",
    "sns.barplot(Embarked_x, Embarked_y, hue = Survived).set_title('Embarked')\n",
    "training.groupby(['Embarked', 'Survived']).size()"
   ]
  },
  {
   "cell_type": "markdown",
   "metadata": {},
   "source": [
    "From the above diagrams and pivot tables, we duly note the below:\n",
    "\n",
    "- Pclass '3' has a much lower probablity of survival\n",
    "- Males have a much lower probablity of survival\n",
    "- Embarkation from 'S' has a lower probablity of survival\n",
    "\n",
    "These indicate that the categorical data obtain from 'Pclass', 'Sex' and 'Embark' are highly important and contribute largely in detemining if a person survives.\n",
    "\n",
    "From history, we understand that ladies and children were allowed to board the life rafts first, and with the assumption that first class cabin guests are given priority, we can duly conclude the first 2. However, one surprising fact is that the port of embarkation does have an effect on the probability of survival. From research, we gather that people boarded from Southampton first, followed by Cherbourg, and finally Queenstown. One can deduce that passengers from Southampton must have been given cabins further from the entrance, which would also help in the boarding process at Cherbourg and Queenstown."
   ]
  },
  {
   "cell_type": "code",
   "execution_count": 84,
   "metadata": {
    "execution": {
     "iopub.execute_input": "2021-05-24T13:32:49.537239Z",
     "iopub.status.busy": "2021-05-24T13:32:49.536963Z",
     "iopub.status.idle": "2021-05-24T13:32:49.556367Z",
     "shell.execute_reply": "2021-05-24T13:32:49.555215Z",
     "shell.execute_reply.started": "2021-05-24T13:32:49.537210Z"
    }
   },
   "outputs": [
    {
     "data": {
      "text/html": [
       "<div>\n",
       "<style scoped>\n",
       "    .dataframe tbody tr th:only-of-type {\n",
       "        vertical-align: middle;\n",
       "    }\n",
       "\n",
       "    .dataframe tbody tr th {\n",
       "        vertical-align: top;\n",
       "    }\n",
       "\n",
       "    .dataframe thead th {\n",
       "        text-align: right;\n",
       "    }\n",
       "</style>\n",
       "<table border=\"1\" class=\"dataframe\">\n",
       "  <thead>\n",
       "    <tr style=\"text-align: right;\">\n",
       "      <th></th>\n",
       "      <th>Cabin</th>\n",
       "      <th>Ticket</th>\n",
       "    </tr>\n",
       "  </thead>\n",
       "  <tbody>\n",
       "    <tr>\n",
       "      <th>count</th>\n",
       "      <td>204</td>\n",
       "      <td>891</td>\n",
       "    </tr>\n",
       "    <tr>\n",
       "      <th>unique</th>\n",
       "      <td>147</td>\n",
       "      <td>681</td>\n",
       "    </tr>\n",
       "    <tr>\n",
       "      <th>top</th>\n",
       "      <td>C23 C25 C27</td>\n",
       "      <td>CA. 2343</td>\n",
       "    </tr>\n",
       "    <tr>\n",
       "      <th>freq</th>\n",
       "      <td>4</td>\n",
       "      <td>7</td>\n",
       "    </tr>\n",
       "  </tbody>\n",
       "</table>\n",
       "</div>"
      ],
      "text/plain": [
       "              Cabin    Ticket\n",
       "count           204       891\n",
       "unique          147       681\n",
       "top     C23 C25 C27  CA. 2343\n",
       "freq              4         7"
      ]
     },
     "execution_count": 84,
     "metadata": {},
     "output_type": "execute_result"
    }
   ],
   "source": [
    "# We note here that 'Ticket' and 'Cabin' have too many unique values, and will have to be looked into seperatedly\n",
    "training[['Cabin', 'Ticket']].describe()"
   ]
  },
  {
   "cell_type": "code",
   "execution_count": 85,
   "metadata": {
    "execution": {
     "iopub.execute_input": "2021-05-24T13:32:49.558836Z",
     "iopub.status.busy": "2021-05-24T13:32:49.558411Z",
     "iopub.status.idle": "2021-05-24T13:32:49.568936Z",
     "shell.execute_reply": "2021-05-24T13:32:49.567805Z",
     "shell.execute_reply.started": "2021-05-24T13:32:49.558791Z"
    }
   },
   "outputs": [
    {
     "data": {
      "text/plain": [
       "array([nan, 'C85', 'C123', 'E46', 'G6', 'C103', 'D56', 'A6',\n",
       "       'C23 C25 C27', 'B78', 'D33', 'B30', 'C52', 'B28', 'C83', 'F33',\n",
       "       'F G73', 'E31', 'A5', 'D10 D12', 'D26', 'C110', 'B58 B60', 'E101',\n",
       "       'F E69', 'D47', 'B86', 'F2', 'C2', 'E33', 'B19', 'A7', 'C49', 'F4',\n",
       "       'A32', 'B4', 'B80', 'A31', 'D36', 'D15', 'C93', 'C78', 'D35',\n",
       "       'C87', 'B77', 'E67', 'B94', 'C125', 'C99', 'C118', 'D7', 'A19',\n",
       "       'B49', 'D', 'C22 C26', 'C106', 'C65', 'E36', 'C54',\n",
       "       'B57 B59 B63 B66', 'C7', 'E34', 'C32', 'B18', 'C124', 'C91', 'E40',\n",
       "       'T', 'C128', 'D37', 'B35', 'E50', 'C82', 'B96 B98', 'E10', 'E44',\n",
       "       'A34', 'C104', 'C111', 'C92', 'E38', 'D21', 'E12', 'E63', 'A14',\n",
       "       'B37', 'C30', 'D20', 'B79', 'E25', 'D46', 'B73', 'C95', 'B38',\n",
       "       'B39', 'B22', 'C86', 'C70', 'A16', 'C101', 'C68', 'A10', 'E68',\n",
       "       'B41', 'A20', 'D19', 'D50', 'D9', 'A23', 'B50', 'A26', 'D48',\n",
       "       'E58', 'C126', 'B71', 'B51 B53 B55', 'D49', 'B5', 'B20', 'F G63',\n",
       "       'C62 C64', 'E24', 'C90', 'C45', 'E8', 'B101', 'D45', 'C46', 'D30',\n",
       "       'E121', 'D11', 'E77', 'F38', 'B3', 'D6', 'B82 B84', 'D17', 'A36',\n",
       "       'B102', 'B69', 'E49', 'C47', 'D28', 'E17', 'A24', 'C50', 'B42',\n",
       "       'C148'], dtype=object)"
      ]
     },
     "execution_count": 85,
     "metadata": {},
     "output_type": "execute_result"
    }
   ],
   "source": [
    "training.Cabin.unique()"
   ]
  },
  {
   "cell_type": "code",
   "execution_count": 86,
   "metadata": {
    "execution": {
     "iopub.execute_input": "2021-05-24T13:32:49.570201Z",
     "iopub.status.busy": "2021-05-24T13:32:49.569912Z",
     "iopub.status.idle": "2021-05-24T13:32:49.583013Z",
     "shell.execute_reply": "2021-05-24T13:32:49.581334Z",
     "shell.execute_reply.started": "2021-05-24T13:32:49.570163Z"
    }
   },
   "outputs": [],
   "source": [
    "training['cabin_heading'] = training.Cabin.apply(lambda x: str(x)[0])"
   ]
  },
  {
   "cell_type": "code",
   "execution_count": 87,
   "metadata": {
    "execution": {
     "iopub.execute_input": "2021-05-24T13:32:49.586163Z",
     "iopub.status.busy": "2021-05-24T13:32:49.585738Z",
     "iopub.status.idle": "2021-05-24T13:32:49.619821Z",
     "shell.execute_reply": "2021-05-24T13:32:49.618480Z",
     "shell.execute_reply.started": "2021-05-24T13:32:49.586129Z"
    }
   },
   "outputs": [
    {
     "data": {
      "text/html": [
       "<div>\n",
       "<style scoped>\n",
       "    .dataframe tbody tr th:only-of-type {\n",
       "        vertical-align: middle;\n",
       "    }\n",
       "\n",
       "    .dataframe tbody tr th {\n",
       "        vertical-align: top;\n",
       "    }\n",
       "\n",
       "    .dataframe thead th {\n",
       "        text-align: right;\n",
       "    }\n",
       "</style>\n",
       "<table border=\"1\" class=\"dataframe\">\n",
       "  <thead>\n",
       "    <tr style=\"text-align: right;\">\n",
       "      <th>cabin_heading</th>\n",
       "      <th>A</th>\n",
       "      <th>B</th>\n",
       "      <th>C</th>\n",
       "      <th>D</th>\n",
       "      <th>E</th>\n",
       "      <th>F</th>\n",
       "      <th>G</th>\n",
       "      <th>T</th>\n",
       "      <th>n</th>\n",
       "    </tr>\n",
       "    <tr>\n",
       "      <th>Survived</th>\n",
       "      <th></th>\n",
       "      <th></th>\n",
       "      <th></th>\n",
       "      <th></th>\n",
       "      <th></th>\n",
       "      <th></th>\n",
       "      <th></th>\n",
       "      <th></th>\n",
       "      <th></th>\n",
       "    </tr>\n",
       "  </thead>\n",
       "  <tbody>\n",
       "    <tr>\n",
       "      <th>0</th>\n",
       "      <td>8.0</td>\n",
       "      <td>12.0</td>\n",
       "      <td>24.0</td>\n",
       "      <td>8.0</td>\n",
       "      <td>8.0</td>\n",
       "      <td>5.0</td>\n",
       "      <td>2.0</td>\n",
       "      <td>1.0</td>\n",
       "      <td>481.0</td>\n",
       "    </tr>\n",
       "    <tr>\n",
       "      <th>1</th>\n",
       "      <td>7.0</td>\n",
       "      <td>35.0</td>\n",
       "      <td>35.0</td>\n",
       "      <td>25.0</td>\n",
       "      <td>24.0</td>\n",
       "      <td>8.0</td>\n",
       "      <td>2.0</td>\n",
       "      <td>NaN</td>\n",
       "      <td>206.0</td>\n",
       "    </tr>\n",
       "  </tbody>\n",
       "</table>\n",
       "</div>"
      ],
      "text/plain": [
       "cabin_heading    A     B     C     D     E    F    G    T      n\n",
       "Survived                                                        \n",
       "0              8.0  12.0  24.0   8.0   8.0  5.0  2.0  1.0  481.0\n",
       "1              7.0  35.0  35.0  25.0  24.0  8.0  2.0  NaN  206.0"
      ]
     },
     "execution_count": 87,
     "metadata": {},
     "output_type": "execute_result"
    }
   ],
   "source": [
    "pd.pivot_table(training, index = 'Survived', columns = 'cabin_heading', values = 'train_test', aggfunc ='count')"
   ]
  },
  {
   "cell_type": "code",
   "execution_count": 88,
   "metadata": {
    "execution": {
     "iopub.execute_input": "2021-05-24T13:32:49.623714Z",
     "iopub.status.busy": "2021-05-24T13:32:49.623395Z",
     "iopub.status.idle": "2021-05-24T13:32:49.637474Z",
     "shell.execute_reply": "2021-05-24T13:32:49.636179Z",
     "shell.execute_reply.started": "2021-05-24T13:32:49.623669Z"
    }
   },
   "outputs": [
    {
     "name": "stdout",
     "output_type": "stream",
     "text": [
      "     PassengerId  Survived  Pclass                          Name   Sex   Age  \\\n",
      "339          340         0       1  Blackwell, Mr. Stephen Weart  male  45.0   \n",
      "\n",
      "     SibSp  Parch  Ticket  Fare Cabin Embarked  train_test cabin_heading  \n",
      "339      0      0  113784  35.5     T        S           1             T  \n"
     ]
    }
   ],
   "source": [
    "# Above, we note that there is only one passenger with cabin heading 'T', and he did not survive.\n",
    "# Out of curiousity, we check if he is the captain:\n",
    "\n",
    "print(training.loc[training['cabin_heading'] == 'T'])"
   ]
  },
  {
   "cell_type": "code",
   "execution_count": 89,
   "metadata": {
    "execution": {
     "iopub.execute_input": "2021-05-24T13:32:49.639836Z",
     "iopub.status.busy": "2021-05-24T13:32:49.639466Z",
     "iopub.status.idle": "2021-05-24T13:32:49.657755Z",
     "shell.execute_reply": "2021-05-24T13:32:49.656353Z",
     "shell.execute_reply.started": "2021-05-24T13:32:49.639804Z"
    }
   },
   "outputs": [
    {
     "data": {
      "text/html": [
       "<div>\n",
       "<style scoped>\n",
       "    .dataframe tbody tr th:only-of-type {\n",
       "        vertical-align: middle;\n",
       "    }\n",
       "\n",
       "    .dataframe tbody tr th {\n",
       "        vertical-align: top;\n",
       "    }\n",
       "\n",
       "    .dataframe thead th {\n",
       "        text-align: right;\n",
       "    }\n",
       "</style>\n",
       "<table border=\"1\" class=\"dataframe\">\n",
       "  <thead>\n",
       "    <tr style=\"text-align: right;\">\n",
       "      <th></th>\n",
       "      <th>PassengerId</th>\n",
       "      <th>Survived</th>\n",
       "      <th>Pclass</th>\n",
       "      <th>Name</th>\n",
       "      <th>Sex</th>\n",
       "      <th>Age</th>\n",
       "      <th>SibSp</th>\n",
       "      <th>Parch</th>\n",
       "      <th>Ticket</th>\n",
       "      <th>Fare</th>\n",
       "      <th>Cabin</th>\n",
       "      <th>Embarked</th>\n",
       "      <th>train_test</th>\n",
       "      <th>cabin_heading</th>\n",
       "    </tr>\n",
       "  </thead>\n",
       "  <tbody>\n",
       "    <tr>\n",
       "      <th>745</th>\n",
       "      <td>746</td>\n",
       "      <td>0</td>\n",
       "      <td>1</td>\n",
       "      <td>Crosby, Capt. Edward Gifford</td>\n",
       "      <td>male</td>\n",
       "      <td>70.0</td>\n",
       "      <td>1</td>\n",
       "      <td>1</td>\n",
       "      <td>WE/P 5735</td>\n",
       "      <td>71.0</td>\n",
       "      <td>B22</td>\n",
       "      <td>S</td>\n",
       "      <td>1</td>\n",
       "      <td>B</td>\n",
       "    </tr>\n",
       "  </tbody>\n",
       "</table>\n",
       "</div>"
      ],
      "text/plain": [
       "     PassengerId  Survived  Pclass                          Name   Sex   Age  \\\n",
       "745          746         0       1  Crosby, Capt. Edward Gifford  male  70.0   \n",
       "\n",
       "     SibSp  Parch     Ticket  Fare Cabin Embarked  train_test cabin_heading  \n",
       "745      1      1  WE/P 5735  71.0   B22        S           1             B  "
      ]
     },
     "execution_count": 89,
     "metadata": {},
     "output_type": "execute_result"
    }
   ],
   "source": [
    "training.loc[training.Name.str.contains('Capt')]"
   ]
  },
  {
   "cell_type": "code",
   "execution_count": 90,
   "metadata": {
    "execution": {
     "iopub.execute_input": "2021-05-24T13:32:49.659741Z",
     "iopub.status.busy": "2021-05-24T13:32:49.659404Z",
     "iopub.status.idle": "2021-05-24T13:32:49.669016Z",
     "shell.execute_reply": "2021-05-24T13:32:49.668084Z",
     "shell.execute_reply.started": "2021-05-24T13:32:49.659708Z"
    }
   },
   "outputs": [],
   "source": [
    "# training.Ticket.unique()\n",
    "# Here, we note that the number of unique values in the 'Ticket' column, and upon inspection, we are\n",
    "# unable to identify similarities and correlations between the different unique values and the survival\n",
    "# rate of the individuals.\n",
    "\n",
    "# Hence, we shall drop this column when creating a model for the training data.\n",
    "\n",
    "# However, we note that this is an area with possibility for further experimentation."
   ]
  },
  {
   "cell_type": "code",
   "execution_count": 91,
   "metadata": {
    "execution": {
     "iopub.execute_input": "2021-05-24T13:32:49.670755Z",
     "iopub.status.busy": "2021-05-24T13:32:49.670157Z",
     "iopub.status.idle": "2021-05-24T13:32:49.694291Z",
     "shell.execute_reply": "2021-05-24T13:32:49.693060Z",
     "shell.execute_reply.started": "2021-05-24T13:32:49.670711Z"
    }
   },
   "outputs": [
    {
     "data": {
      "text/html": [
       "<div>\n",
       "<style scoped>\n",
       "    .dataframe tbody tr th:only-of-type {\n",
       "        vertical-align: middle;\n",
       "    }\n",
       "\n",
       "    .dataframe tbody tr th {\n",
       "        vertical-align: top;\n",
       "    }\n",
       "\n",
       "    .dataframe thead th {\n",
       "        text-align: right;\n",
       "    }\n",
       "</style>\n",
       "<table border=\"1\" class=\"dataframe\">\n",
       "  <thead>\n",
       "    <tr style=\"text-align: right;\">\n",
       "      <th>Pclass</th>\n",
       "      <th>1</th>\n",
       "      <th>2</th>\n",
       "      <th>3</th>\n",
       "    </tr>\n",
       "    <tr>\n",
       "      <th>Survived</th>\n",
       "      <th></th>\n",
       "      <th></th>\n",
       "      <th></th>\n",
       "    </tr>\n",
       "  </thead>\n",
       "  <tbody>\n",
       "    <tr>\n",
       "      <th>0</th>\n",
       "      <td>80</td>\n",
       "      <td>97</td>\n",
       "      <td>372</td>\n",
       "    </tr>\n",
       "    <tr>\n",
       "      <th>1</th>\n",
       "      <td>136</td>\n",
       "      <td>87</td>\n",
       "      <td>119</td>\n",
       "    </tr>\n",
       "  </tbody>\n",
       "</table>\n",
       "</div>"
      ],
      "text/plain": [
       "Pclass      1   2    3\n",
       "Survived              \n",
       "0          80  97  372\n",
       "1         136  87  119"
      ]
     },
     "execution_count": 91,
     "metadata": {},
     "output_type": "execute_result"
    }
   ],
   "source": [
    "pd.pivot_table(training, index = 'Survived', columns = 'Pclass', values = 'train_test', aggfunc ='count')"
   ]
  },
  {
   "cell_type": "code",
   "execution_count": 92,
   "metadata": {
    "execution": {
     "iopub.execute_input": "2021-05-24T13:32:49.695973Z",
     "iopub.status.busy": "2021-05-24T13:32:49.695635Z",
     "iopub.status.idle": "2021-05-24T13:32:49.715521Z",
     "shell.execute_reply": "2021-05-24T13:32:49.714582Z",
     "shell.execute_reply.started": "2021-05-24T13:32:49.695942Z"
    }
   },
   "outputs": [
    {
     "data": {
      "text/html": [
       "<div>\n",
       "<style scoped>\n",
       "    .dataframe tbody tr th:only-of-type {\n",
       "        vertical-align: middle;\n",
       "    }\n",
       "\n",
       "    .dataframe tbody tr th {\n",
       "        vertical-align: top;\n",
       "    }\n",
       "\n",
       "    .dataframe thead th {\n",
       "        text-align: right;\n",
       "    }\n",
       "</style>\n",
       "<table border=\"1\" class=\"dataframe\">\n",
       "  <thead>\n",
       "    <tr style=\"text-align: right;\">\n",
       "      <th>Sex</th>\n",
       "      <th>female</th>\n",
       "      <th>male</th>\n",
       "    </tr>\n",
       "    <tr>\n",
       "      <th>Survived</th>\n",
       "      <th></th>\n",
       "      <th></th>\n",
       "    </tr>\n",
       "  </thead>\n",
       "  <tbody>\n",
       "    <tr>\n",
       "      <th>0</th>\n",
       "      <td>81</td>\n",
       "      <td>468</td>\n",
       "    </tr>\n",
       "    <tr>\n",
       "      <th>1</th>\n",
       "      <td>233</td>\n",
       "      <td>109</td>\n",
       "    </tr>\n",
       "  </tbody>\n",
       "</table>\n",
       "</div>"
      ],
      "text/plain": [
       "Sex       female  male\n",
       "Survived              \n",
       "0             81   468\n",
       "1            233   109"
      ]
     },
     "execution_count": 92,
     "metadata": {},
     "output_type": "execute_result"
    }
   ],
   "source": [
    "pd.pivot_table(training, index = 'Survived', columns = 'Sex', values = 'train_test', aggfunc ='count')"
   ]
  },
  {
   "cell_type": "code",
   "execution_count": 93,
   "metadata": {
    "execution": {
     "iopub.execute_input": "2021-05-24T13:32:49.717248Z",
     "iopub.status.busy": "2021-05-24T13:32:49.716969Z",
     "iopub.status.idle": "2021-05-24T13:32:49.743880Z",
     "shell.execute_reply": "2021-05-24T13:32:49.743076Z",
     "shell.execute_reply.started": "2021-05-24T13:32:49.717219Z"
    }
   },
   "outputs": [
    {
     "name": "stdout",
     "output_type": "stream",
     "text": [
      "<class 'pandas.core.frame.DataFrame'>\n",
      "RangeIndex: 891 entries, 0 to 890\n",
      "Data columns (total 14 columns):\n",
      " #   Column         Non-Null Count  Dtype  \n",
      "---  ------         --------------  -----  \n",
      " 0   PassengerId    891 non-null    int64  \n",
      " 1   Survived       891 non-null    int64  \n",
      " 2   Pclass         891 non-null    int64  \n",
      " 3   Name           891 non-null    object \n",
      " 4   Sex            891 non-null    object \n",
      " 5   Age            714 non-null    float64\n",
      " 6   SibSp          891 non-null    int64  \n",
      " 7   Parch          891 non-null    int64  \n",
      " 8   Ticket         891 non-null    object \n",
      " 9   Fare           891 non-null    float64\n",
      " 10  Cabin          204 non-null    object \n",
      " 11  Embarked       889 non-null    object \n",
      " 12  train_test     891 non-null    int64  \n",
      " 13  cabin_heading  891 non-null    object \n",
      "dtypes: float64(2), int64(6), object(6)\n",
      "memory usage: 97.6+ KB\n",
      "None\n",
      "<class 'pandas.core.frame.DataFrame'>\n",
      "RangeIndex: 418 entries, 0 to 417\n",
      "Data columns (total 13 columns):\n",
      " #   Column       Non-Null Count  Dtype  \n",
      "---  ------       --------------  -----  \n",
      " 0   PassengerId  418 non-null    int64  \n",
      " 1   Pclass       418 non-null    int64  \n",
      " 2   Name         418 non-null    object \n",
      " 3   Sex          418 non-null    object \n",
      " 4   Age          332 non-null    float64\n",
      " 5   SibSp        418 non-null    int64  \n",
      " 6   Parch        418 non-null    int64  \n",
      " 7   Ticket       418 non-null    object \n",
      " 8   Fare         417 non-null    float64\n",
      " 9   Cabin        91 non-null     object \n",
      " 10  Embarked     418 non-null    object \n",
      " 11  train_test   418 non-null    int64  \n",
      " 12  Survived     0 non-null      float64\n",
      "dtypes: float64(3), int64(5), object(5)\n",
      "memory usage: 42.6+ KB\n",
      "None\n"
     ]
    }
   ],
   "source": [
    "print(training.info())\n",
    "print(test.info())"
   ]
  },
  {
   "cell_type": "markdown",
   "metadata": {},
   "source": [
    "Data Processing\n",
    "\n",
    "We note the below:\n",
    "\n",
    "- Training data has 2 missing values on Embarked (we can drop these rows before training the models)\n",
    "- Training data has 177 missing values on Age (we can consider encoding them with either the median, or the mean of the ages). We note that 'Age' forms a right-skewed graph, which indicates that the median is smaller than the mean.\n",
    "- Training data has many missing values on Cabin type. However, upon inspection, we are unable to drop this data, since there seems to be a huge discrepancy between the survival rate of those whos cabin types are known.\n",
    "\n",
    "- The test set has missing values in the same areas, with the exception of 1 missing value under 'Fare'. However, since this is the test set and we require an interger value on the survivability of this individual, we shall be encoding this with the mean."
   ]
  },
  {
   "cell_type": "code",
   "execution_count": 94,
   "metadata": {
    "execution": {
     "iopub.execute_input": "2021-05-24T13:32:49.747104Z",
     "iopub.status.busy": "2021-05-24T13:32:49.746517Z",
     "iopub.status.idle": "2021-05-24T13:32:49.751802Z",
     "shell.execute_reply": "2021-05-24T13:32:49.750792Z",
     "shell.execute_reply.started": "2021-05-24T13:32:49.747070Z"
    }
   },
   "outputs": [],
   "source": [
    "from sklearn import preprocessing\n",
    "from sklearn.model_selection import cross_val_score\n",
    "from sklearn.naive_bayes import GaussianNB\n",
    "from sklearn.linear_model import LogisticRegression\n",
    "from sklearn.neighbors import KNeighborsClassifier\n",
    "from sklearn.ensemble import RandomForestClassifier\n",
    "from sklearn.neural_network import MLPClassifier\n",
    "from sklearn.gaussian_process import GaussianProcessClassifier\n",
    "from sklearn.gaussian_process.kernels import RBF\n",
    "from sklearn.svm import SVC\n",
    "from xgboost import XGBClassifier"
   ]
  },
  {
   "cell_type": "code",
   "execution_count": 95,
   "metadata": {
    "execution": {
     "iopub.execute_input": "2021-05-24T13:32:49.753859Z",
     "iopub.status.busy": "2021-05-24T13:32:49.753469Z",
     "iopub.status.idle": "2021-05-24T13:32:49.807770Z",
     "shell.execute_reply": "2021-05-24T13:32:49.806404Z",
     "shell.execute_reply.started": "2021-05-24T13:32:49.753828Z"
    }
   },
   "outputs": [
    {
     "data": {
      "text/html": [
       "<div>\n",
       "<style scoped>\n",
       "    .dataframe tbody tr th:only-of-type {\n",
       "        vertical-align: middle;\n",
       "    }\n",
       "\n",
       "    .dataframe tbody tr th {\n",
       "        vertical-align: top;\n",
       "    }\n",
       "\n",
       "    .dataframe thead th {\n",
       "        text-align: right;\n",
       "    }\n",
       "</style>\n",
       "<table border=\"1\" class=\"dataframe\">\n",
       "  <thead>\n",
       "    <tr style=\"text-align: right;\">\n",
       "      <th></th>\n",
       "      <th>Survived</th>\n",
       "      <th>Age</th>\n",
       "      <th>SibSp</th>\n",
       "      <th>Parch</th>\n",
       "      <th>Fare</th>\n",
       "      <th>Pclass_1</th>\n",
       "      <th>Pclass_2</th>\n",
       "      <th>Pclass_3</th>\n",
       "      <th>Sex_female</th>\n",
       "      <th>Sex_male</th>\n",
       "      <th>...</th>\n",
       "      <th>Embarked_S</th>\n",
       "      <th>cabin_heading_A</th>\n",
       "      <th>cabin_heading_B</th>\n",
       "      <th>cabin_heading_C</th>\n",
       "      <th>cabin_heading_D</th>\n",
       "      <th>cabin_heading_E</th>\n",
       "      <th>cabin_heading_F</th>\n",
       "      <th>cabin_heading_G</th>\n",
       "      <th>cabin_heading_T</th>\n",
       "      <th>cabin_heading_n</th>\n",
       "    </tr>\n",
       "  </thead>\n",
       "  <tbody>\n",
       "    <tr>\n",
       "      <th>0</th>\n",
       "      <td>0</td>\n",
       "      <td>-0.563674</td>\n",
       "      <td>1</td>\n",
       "      <td>0</td>\n",
       "      <td>-0.500240</td>\n",
       "      <td>0</td>\n",
       "      <td>0</td>\n",
       "      <td>1</td>\n",
       "      <td>0</td>\n",
       "      <td>1</td>\n",
       "      <td>...</td>\n",
       "      <td>1</td>\n",
       "      <td>0</td>\n",
       "      <td>0</td>\n",
       "      <td>0</td>\n",
       "      <td>0</td>\n",
       "      <td>0</td>\n",
       "      <td>0</td>\n",
       "      <td>0</td>\n",
       "      <td>0</td>\n",
       "      <td>1</td>\n",
       "    </tr>\n",
       "    <tr>\n",
       "      <th>1</th>\n",
       "      <td>1</td>\n",
       "      <td>0.669217</td>\n",
       "      <td>1</td>\n",
       "      <td>0</td>\n",
       "      <td>0.788947</td>\n",
       "      <td>1</td>\n",
       "      <td>0</td>\n",
       "      <td>0</td>\n",
       "      <td>1</td>\n",
       "      <td>0</td>\n",
       "      <td>...</td>\n",
       "      <td>0</td>\n",
       "      <td>0</td>\n",
       "      <td>0</td>\n",
       "      <td>1</td>\n",
       "      <td>0</td>\n",
       "      <td>0</td>\n",
       "      <td>0</td>\n",
       "      <td>0</td>\n",
       "      <td>0</td>\n",
       "      <td>0</td>\n",
       "    </tr>\n",
       "    <tr>\n",
       "      <th>2</th>\n",
       "      <td>1</td>\n",
       "      <td>-0.255451</td>\n",
       "      <td>0</td>\n",
       "      <td>0</td>\n",
       "      <td>-0.486650</td>\n",
       "      <td>0</td>\n",
       "      <td>0</td>\n",
       "      <td>1</td>\n",
       "      <td>1</td>\n",
       "      <td>0</td>\n",
       "      <td>...</td>\n",
       "      <td>1</td>\n",
       "      <td>0</td>\n",
       "      <td>0</td>\n",
       "      <td>0</td>\n",
       "      <td>0</td>\n",
       "      <td>0</td>\n",
       "      <td>0</td>\n",
       "      <td>0</td>\n",
       "      <td>0</td>\n",
       "      <td>1</td>\n",
       "    </tr>\n",
       "    <tr>\n",
       "      <th>3</th>\n",
       "      <td>1</td>\n",
       "      <td>0.438050</td>\n",
       "      <td>1</td>\n",
       "      <td>0</td>\n",
       "      <td>0.422861</td>\n",
       "      <td>1</td>\n",
       "      <td>0</td>\n",
       "      <td>0</td>\n",
       "      <td>1</td>\n",
       "      <td>0</td>\n",
       "      <td>...</td>\n",
       "      <td>1</td>\n",
       "      <td>0</td>\n",
       "      <td>0</td>\n",
       "      <td>1</td>\n",
       "      <td>0</td>\n",
       "      <td>0</td>\n",
       "      <td>0</td>\n",
       "      <td>0</td>\n",
       "      <td>0</td>\n",
       "      <td>0</td>\n",
       "    </tr>\n",
       "    <tr>\n",
       "      <th>4</th>\n",
       "      <td>0</td>\n",
       "      <td>0.438050</td>\n",
       "      <td>0</td>\n",
       "      <td>0</td>\n",
       "      <td>-0.484133</td>\n",
       "      <td>0</td>\n",
       "      <td>0</td>\n",
       "      <td>1</td>\n",
       "      <td>0</td>\n",
       "      <td>1</td>\n",
       "      <td>...</td>\n",
       "      <td>1</td>\n",
       "      <td>0</td>\n",
       "      <td>0</td>\n",
       "      <td>0</td>\n",
       "      <td>0</td>\n",
       "      <td>0</td>\n",
       "      <td>0</td>\n",
       "      <td>0</td>\n",
       "      <td>0</td>\n",
       "      <td>1</td>\n",
       "    </tr>\n",
       "  </tbody>\n",
       "</table>\n",
       "<p>5 rows × 22 columns</p>\n",
       "</div>"
      ],
      "text/plain": [
       "   Survived       Age  SibSp  Parch      Fare  Pclass_1  Pclass_2  Pclass_3  \\\n",
       "0         0 -0.563674      1      0 -0.500240         0         0         1   \n",
       "1         1  0.669217      1      0  0.788947         1         0         0   \n",
       "2         1 -0.255451      0      0 -0.486650         0         0         1   \n",
       "3         1  0.438050      1      0  0.422861         1         0         0   \n",
       "4         0  0.438050      0      0 -0.484133         0         0         1   \n",
       "\n",
       "   Sex_female  Sex_male  ...  Embarked_S  cabin_heading_A  cabin_heading_B  \\\n",
       "0           0         1  ...           1                0                0   \n",
       "1           1         0  ...           0                0                0   \n",
       "2           1         0  ...           1                0                0   \n",
       "3           1         0  ...           1                0                0   \n",
       "4           0         1  ...           1                0                0   \n",
       "\n",
       "   cabin_heading_C  cabin_heading_D  cabin_heading_E  cabin_heading_F  \\\n",
       "0                0                0                0                0   \n",
       "1                1                0                0                0   \n",
       "2                0                0                0                0   \n",
       "3                1                0                0                0   \n",
       "4                0                0                0                0   \n",
       "\n",
       "   cabin_heading_G  cabin_heading_T  cabin_heading_n  \n",
       "0                0                0                1  \n",
       "1                0                0                0  \n",
       "2                0                0                1  \n",
       "3                0                0                0  \n",
       "4                0                0                1  \n",
       "\n",
       "[5 rows x 22 columns]"
      ]
     },
     "execution_count": 95,
     "metadata": {},
     "output_type": "execute_result"
    }
   ],
   "source": [
    "training = training[training['Embarked'].notna()]\n",
    "# same as training.dropna(subset = ['Embarked'])\n",
    "\n",
    "#training.Age = training.Age.fillna(training.Age.mean())\n",
    "training.Age = training.Age.fillna(training.Age.median())\n",
    "training.Pclass = training.Pclass.apply(str)\n",
    "\n",
    "train_dummies = training.drop(columns = ['PassengerId', 'Name', 'Ticket', 'train_test', 'Cabin'])\n",
    "\n",
    "train_dummies = pd.get_dummies(train_dummies[['Survived', 'Pclass', 'Sex', 'Age', 'SibSp', 'Parch',\n",
    "       'Fare', 'Embarked', 'cabin_heading']])\n",
    "train_scaled = train_dummies.copy()\n",
    "\n",
    "train_age_fare = train_dummies[['Age', 'Fare']]\n",
    "scaler = preprocessing.StandardScaler().fit(train_age_fare.values)\n",
    "features = scaler.transform(train_age_fare.values)\n",
    "\n",
    "train_scaled[['Age', 'Fare']] = features\n",
    "train_scaled.head()\n",
    "#print(scaled_features)"
   ]
  },
  {
   "cell_type": "code",
   "execution_count": 96,
   "metadata": {
    "execution": {
     "iopub.execute_input": "2021-05-24T13:32:49.809205Z",
     "iopub.status.busy": "2021-05-24T13:32:49.808933Z",
     "iopub.status.idle": "2021-05-24T13:32:49.850761Z",
     "shell.execute_reply": "2021-05-24T13:32:49.849930Z",
     "shell.execute_reply.started": "2021-05-24T13:32:49.809175Z"
    }
   },
   "outputs": [
    {
     "data": {
      "text/html": [
       "<div>\n",
       "<style scoped>\n",
       "    .dataframe tbody tr th:only-of-type {\n",
       "        vertical-align: middle;\n",
       "    }\n",
       "\n",
       "    .dataframe tbody tr th {\n",
       "        vertical-align: top;\n",
       "    }\n",
       "\n",
       "    .dataframe thead th {\n",
       "        text-align: right;\n",
       "    }\n",
       "</style>\n",
       "<table border=\"1\" class=\"dataframe\">\n",
       "  <thead>\n",
       "    <tr style=\"text-align: right;\">\n",
       "      <th></th>\n",
       "      <th>Survived</th>\n",
       "      <th>Age</th>\n",
       "      <th>SibSp</th>\n",
       "      <th>Parch</th>\n",
       "      <th>Fare</th>\n",
       "      <th>Pclass_1</th>\n",
       "      <th>Pclass_2</th>\n",
       "      <th>Pclass_3</th>\n",
       "      <th>Sex_female</th>\n",
       "      <th>Sex_male</th>\n",
       "      <th>...</th>\n",
       "      <th>Embarked_Q</th>\n",
       "      <th>Embarked_S</th>\n",
       "      <th>cabin_heading_A</th>\n",
       "      <th>cabin_heading_B</th>\n",
       "      <th>cabin_heading_C</th>\n",
       "      <th>cabin_heading_D</th>\n",
       "      <th>cabin_heading_E</th>\n",
       "      <th>cabin_heading_F</th>\n",
       "      <th>cabin_heading_G</th>\n",
       "      <th>cabin_heading_n</th>\n",
       "    </tr>\n",
       "  </thead>\n",
       "  <tbody>\n",
       "    <tr>\n",
       "      <th>0</th>\n",
       "      <td>NaN</td>\n",
       "      <td>0.386231</td>\n",
       "      <td>0</td>\n",
       "      <td>0</td>\n",
       "      <td>-0.497413</td>\n",
       "      <td>0</td>\n",
       "      <td>0</td>\n",
       "      <td>1</td>\n",
       "      <td>0</td>\n",
       "      <td>1</td>\n",
       "      <td>...</td>\n",
       "      <td>1</td>\n",
       "      <td>0</td>\n",
       "      <td>0</td>\n",
       "      <td>0</td>\n",
       "      <td>0</td>\n",
       "      <td>0</td>\n",
       "      <td>0</td>\n",
       "      <td>0</td>\n",
       "      <td>0</td>\n",
       "      <td>1</td>\n",
       "    </tr>\n",
       "    <tr>\n",
       "      <th>1</th>\n",
       "      <td>NaN</td>\n",
       "      <td>1.371370</td>\n",
       "      <td>1</td>\n",
       "      <td>0</td>\n",
       "      <td>-0.512278</td>\n",
       "      <td>0</td>\n",
       "      <td>0</td>\n",
       "      <td>1</td>\n",
       "      <td>1</td>\n",
       "      <td>0</td>\n",
       "      <td>...</td>\n",
       "      <td>0</td>\n",
       "      <td>1</td>\n",
       "      <td>0</td>\n",
       "      <td>0</td>\n",
       "      <td>0</td>\n",
       "      <td>0</td>\n",
       "      <td>0</td>\n",
       "      <td>0</td>\n",
       "      <td>0</td>\n",
       "      <td>1</td>\n",
       "    </tr>\n",
       "    <tr>\n",
       "      <th>2</th>\n",
       "      <td>NaN</td>\n",
       "      <td>2.553537</td>\n",
       "      <td>0</td>\n",
       "      <td>0</td>\n",
       "      <td>-0.464100</td>\n",
       "      <td>0</td>\n",
       "      <td>1</td>\n",
       "      <td>0</td>\n",
       "      <td>0</td>\n",
       "      <td>1</td>\n",
       "      <td>...</td>\n",
       "      <td>1</td>\n",
       "      <td>0</td>\n",
       "      <td>0</td>\n",
       "      <td>0</td>\n",
       "      <td>0</td>\n",
       "      <td>0</td>\n",
       "      <td>0</td>\n",
       "      <td>0</td>\n",
       "      <td>0</td>\n",
       "      <td>1</td>\n",
       "    </tr>\n",
       "    <tr>\n",
       "      <th>3</th>\n",
       "      <td>NaN</td>\n",
       "      <td>-0.204852</td>\n",
       "      <td>0</td>\n",
       "      <td>0</td>\n",
       "      <td>-0.482475</td>\n",
       "      <td>0</td>\n",
       "      <td>0</td>\n",
       "      <td>1</td>\n",
       "      <td>0</td>\n",
       "      <td>1</td>\n",
       "      <td>...</td>\n",
       "      <td>0</td>\n",
       "      <td>1</td>\n",
       "      <td>0</td>\n",
       "      <td>0</td>\n",
       "      <td>0</td>\n",
       "      <td>0</td>\n",
       "      <td>0</td>\n",
       "      <td>0</td>\n",
       "      <td>0</td>\n",
       "      <td>1</td>\n",
       "    </tr>\n",
       "    <tr>\n",
       "      <th>4</th>\n",
       "      <td>NaN</td>\n",
       "      <td>-0.598908</td>\n",
       "      <td>1</td>\n",
       "      <td>1</td>\n",
       "      <td>-0.417492</td>\n",
       "      <td>0</td>\n",
       "      <td>0</td>\n",
       "      <td>1</td>\n",
       "      <td>1</td>\n",
       "      <td>0</td>\n",
       "      <td>...</td>\n",
       "      <td>0</td>\n",
       "      <td>1</td>\n",
       "      <td>0</td>\n",
       "      <td>0</td>\n",
       "      <td>0</td>\n",
       "      <td>0</td>\n",
       "      <td>0</td>\n",
       "      <td>0</td>\n",
       "      <td>0</td>\n",
       "      <td>1</td>\n",
       "    </tr>\n",
       "  </tbody>\n",
       "</table>\n",
       "<p>5 rows × 21 columns</p>\n",
       "</div>"
      ],
      "text/plain": [
       "   Survived       Age  SibSp  Parch      Fare  Pclass_1  Pclass_2  Pclass_3  \\\n",
       "0       NaN  0.386231      0      0 -0.497413         0         0         1   \n",
       "1       NaN  1.371370      1      0 -0.512278         0         0         1   \n",
       "2       NaN  2.553537      0      0 -0.464100         0         1         0   \n",
       "3       NaN -0.204852      0      0 -0.482475         0         0         1   \n",
       "4       NaN -0.598908      1      1 -0.417492         0         0         1   \n",
       "\n",
       "   Sex_female  Sex_male  ...  Embarked_Q  Embarked_S  cabin_heading_A  \\\n",
       "0           0         1  ...           1           0                0   \n",
       "1           1         0  ...           0           1                0   \n",
       "2           0         1  ...           1           0                0   \n",
       "3           0         1  ...           0           1                0   \n",
       "4           1         0  ...           0           1                0   \n",
       "\n",
       "   cabin_heading_B  cabin_heading_C  cabin_heading_D  cabin_heading_E  \\\n",
       "0                0                0                0                0   \n",
       "1                0                0                0                0   \n",
       "2                0                0                0                0   \n",
       "3                0                0                0                0   \n",
       "4                0                0                0                0   \n",
       "\n",
       "   cabin_heading_F  cabin_heading_G  cabin_heading_n  \n",
       "0                0                0                1  \n",
       "1                0                0                1  \n",
       "2                0                0                1  \n",
       "3                0                0                1  \n",
       "4                0                0                1  \n",
       "\n",
       "[5 rows x 21 columns]"
      ]
     },
     "execution_count": 96,
     "metadata": {},
     "output_type": "execute_result"
    }
   ],
   "source": [
    "#test.Fare = test.Fare.fillna(training.Fare.mean())\n",
    "test.Fare = test.Fare.fillna(training.Fare.median())\n",
    "\n",
    "#test.Age = test.Age.fillna(training.Age.mean())\n",
    "test.Age = test.Age.fillna(test.Age.median())\n",
    "\n",
    "test['cabin_heading'] = test.Cabin.apply(lambda x: str(x)[0])\n",
    "test.Pclass = test.Pclass.apply(str)\n",
    "\n",
    "test_dummies = test.drop(columns = ['PassengerId', 'Name', 'Ticket', 'train_test', 'Cabin'])\n",
    "\n",
    "test_dummies = pd.get_dummies(test_dummies[['Survived', 'Pclass', 'Sex', 'Age', 'SibSp', 'Parch',\n",
    "       'Fare', 'Embarked', 'cabin_heading']])\n",
    "test_scaled = test_dummies.copy()\n",
    "\n",
    "test_age_fare = test[['Age', 'Fare']]\n",
    "scaler = preprocessing.StandardScaler().fit(test_age_fare.values)\n",
    "features = scaler.transform(test_age_fare.values)\n",
    "\n",
    "test_scaled[['Age', 'Fare']] = features\n",
    "test_scaled.head()\n",
    "#print(scaled_features)"
   ]
  },
  {
   "cell_type": "code",
   "execution_count": 97,
   "metadata": {
    "execution": {
     "iopub.execute_input": "2021-05-24T13:32:49.852327Z",
     "iopub.status.busy": "2021-05-24T13:32:49.851872Z",
     "iopub.status.idle": "2021-05-24T13:32:49.860536Z",
     "shell.execute_reply": "2021-05-24T13:32:49.859269Z",
     "shell.execute_reply.started": "2021-05-24T13:32:49.852296Z"
    }
   },
   "outputs": [],
   "source": [
    "X_train = train_scaled.drop(['Survived'], axis = 1)\n",
    "X_test = test_scaled.drop(['Survived'], axis = 1)\n",
    "Y_train = train_scaled['Survived']\n",
    "Y_test = test_scaled['Survived']"
   ]
  },
  {
   "cell_type": "code",
   "execution_count": 98,
   "metadata": {
    "execution": {
     "iopub.execute_input": "2021-05-24T13:32:49.862549Z",
     "iopub.status.busy": "2021-05-24T13:32:49.862020Z",
     "iopub.status.idle": "2021-05-24T13:33:25.478856Z",
     "shell.execute_reply": "2021-05-24T13:33:25.477747Z",
     "shell.execute_reply.started": "2021-05-24T13:32:49.862515Z"
    }
   },
   "outputs": [
    {
     "name": "stderr",
     "output_type": "stream",
     "text": [
      "/opt/conda/lib/python3.7/site-packages/xgboost/sklearn.py:1146: UserWarning: The use of label encoder in XGBClassifier is deprecated and will be removed in a future release. To remove this warning, do the following: 1) Pass option use_label_encoder=False when constructing XGBClassifier object; and 2) Encode your labels (y) as integers starting with 0, i.e. 0, 1, 2, ..., [num_class - 1].\n",
      "  warnings.warn(label_encoder_deprecation_msg, UserWarning)\n",
      "/opt/conda/lib/python3.7/site-packages/xgboost/data.py:114: UserWarning: Use subset (sliced data) of np.ndarray is not recommended because it will generate extra copies and increase memory consumption\n",
      "  \"because it will generate extra copies and increase \" +\n",
      "/opt/conda/lib/python3.7/site-packages/xgboost/sklearn.py:1146: UserWarning: The use of label encoder in XGBClassifier is deprecated and will be removed in a future release. To remove this warning, do the following: 1) Pass option use_label_encoder=False when constructing XGBClassifier object; and 2) Encode your labels (y) as integers starting with 0, i.e. 0, 1, 2, ..., [num_class - 1].\n",
      "  warnings.warn(label_encoder_deprecation_msg, UserWarning)\n",
      "/opt/conda/lib/python3.7/site-packages/xgboost/data.py:114: UserWarning: Use subset (sliced data) of np.ndarray is not recommended because it will generate extra copies and increase memory consumption\n",
      "  \"because it will generate extra copies and increase \" +\n",
      "/opt/conda/lib/python3.7/site-packages/xgboost/sklearn.py:1146: UserWarning: The use of label encoder in XGBClassifier is deprecated and will be removed in a future release. To remove this warning, do the following: 1) Pass option use_label_encoder=False when constructing XGBClassifier object; and 2) Encode your labels (y) as integers starting with 0, i.e. 0, 1, 2, ..., [num_class - 1].\n",
      "  warnings.warn(label_encoder_deprecation_msg, UserWarning)\n"
     ]
    },
    {
     "name": "stdout",
     "output_type": "stream",
     "text": [
      "[13:32:51] WARNING: ../src/learner.cc:1095: Starting in XGBoost 1.3.0, the default evaluation metric used with the objective 'binary:logistic' was changed from 'error' to 'logloss'. Explicitly set eval_metric if you'd like to restore the old behavior.\n",
      "[13:32:51] WARNING: ../src/learner.cc:1095: Starting in XGBoost 1.3.0, the default evaluation metric used with the objective 'binary:logistic' was changed from 'error' to 'logloss'. Explicitly set eval_metric if you'd like to restore the old behavior.\n",
      "[13:32:51] WARNING: ../src/learner.cc:1095: Starting in XGBoost 1.3.0, the default evaluation metric used with the objective 'binary:logistic' was changed from 'error' to 'logloss'. Explicitly set eval_metric if you'd like to restore the old behavior.\n"
     ]
    },
    {
     "name": "stderr",
     "output_type": "stream",
     "text": [
      "/opt/conda/lib/python3.7/site-packages/xgboost/data.py:114: UserWarning: Use subset (sliced data) of np.ndarray is not recommended because it will generate extra copies and increase memory consumption\n",
      "  \"because it will generate extra copies and increase \" +\n",
      "/opt/conda/lib/python3.7/site-packages/xgboost/sklearn.py:1146: UserWarning: The use of label encoder in XGBClassifier is deprecated and will be removed in a future release. To remove this warning, do the following: 1) Pass option use_label_encoder=False when constructing XGBClassifier object; and 2) Encode your labels (y) as integers starting with 0, i.e. 0, 1, 2, ..., [num_class - 1].\n",
      "  warnings.warn(label_encoder_deprecation_msg, UserWarning)\n",
      "/opt/conda/lib/python3.7/site-packages/xgboost/data.py:114: UserWarning: Use subset (sliced data) of np.ndarray is not recommended because it will generate extra copies and increase memory consumption\n",
      "  \"because it will generate extra copies and increase \" +\n",
      "/opt/conda/lib/python3.7/site-packages/xgboost/sklearn.py:1146: UserWarning: The use of label encoder in XGBClassifier is deprecated and will be removed in a future release. To remove this warning, do the following: 1) Pass option use_label_encoder=False when constructing XGBClassifier object; and 2) Encode your labels (y) as integers starting with 0, i.e. 0, 1, 2, ..., [num_class - 1].\n",
      "  warnings.warn(label_encoder_deprecation_msg, UserWarning)\n",
      "/opt/conda/lib/python3.7/site-packages/xgboost/data.py:114: UserWarning: Use subset (sliced data) of np.ndarray is not recommended because it will generate extra copies and increase memory consumption\n",
      "  \"because it will generate extra copies and increase \" +\n"
     ]
    },
    {
     "name": "stdout",
     "output_type": "stream",
     "text": [
      "[13:32:51] WARNING: ../src/learner.cc:1095: Starting in XGBoost 1.3.0, the default evaluation metric used with the objective 'binary:logistic' was changed from 'error' to 'logloss'. Explicitly set eval_metric if you'd like to restore the old behavior.\n",
      "[13:32:51] WARNING: ../src/learner.cc:1095: Starting in XGBoost 1.3.0, the default evaluation metric used with the objective 'binary:logistic' was changed from 'error' to 'logloss'. Explicitly set eval_metric if you'd like to restore the old behavior.\n"
     ]
    },
    {
     "name": "stderr",
     "output_type": "stream",
     "text": [
      "/opt/conda/lib/python3.7/site-packages/sklearn/neural_network/_multilayer_perceptron.py:617: ConvergenceWarning: Stochastic Optimizer: Maximum iterations (200) reached and the optimization hasn't converged yet.\n",
      "  % self.max_iter, ConvergenceWarning)\n",
      "/opt/conda/lib/python3.7/site-packages/sklearn/neural_network/_multilayer_perceptron.py:617: ConvergenceWarning: Stochastic Optimizer: Maximum iterations (200) reached and the optimization hasn't converged yet.\n",
      "  % self.max_iter, ConvergenceWarning)\n",
      "/opt/conda/lib/python3.7/site-packages/sklearn/neural_network/_multilayer_perceptron.py:617: ConvergenceWarning: Stochastic Optimizer: Maximum iterations (200) reached and the optimization hasn't converged yet.\n",
      "  % self.max_iter, ConvergenceWarning)\n",
      "/opt/conda/lib/python3.7/site-packages/sklearn/neural_network/_multilayer_perceptron.py:617: ConvergenceWarning: Stochastic Optimizer: Maximum iterations (200) reached and the optimization hasn't converged yet.\n",
      "  % self.max_iter, ConvergenceWarning)\n",
      "/opt/conda/lib/python3.7/site-packages/sklearn/neural_network/_multilayer_perceptron.py:617: ConvergenceWarning: Stochastic Optimizer: Maximum iterations (200) reached and the optimization hasn't converged yet.\n",
      "  % self.max_iter, ConvergenceWarning)\n"
     ]
    }
   ],
   "source": [
    "#Naive Bayes\n",
    "gnb = GaussianNB()\n",
    "cross_val_NB = cross_val_score(gnb, X_train, Y_train, cv=5)\n",
    "#Logistic Regression\n",
    "lr = LogisticRegression()\n",
    "cross_val_LR = cross_val_score(lr, X_train, Y_train, cv=5)\n",
    "#K Nearest Neighbours\n",
    "kn = KNeighborsClassifier()\n",
    "cross_val_KN = cross_val_score(kn, X_train, Y_train, cv=5)\n",
    "#Random Forest\n",
    "rf = RandomForestClassifier()\n",
    "cross_val_RF = cross_val_score(rf, X_train, Y_train, cv=5)\n",
    "#XG Boost\n",
    "xg = XGBClassifier(random_state =1)\n",
    "cross_val_XG = cross_val_score(xg, X_train, Y_train,cv=5)\n",
    "#Support Vector\n",
    "sv = SVC(probability = True)\n",
    "cross_val_SV = cross_val_score(sv, X_train, Y_train,cv=5)\n",
    "#Neural Network\n",
    "nn = MLPClassifier()\n",
    "cross_val_NN = cross_val_score(nn, X_train, Y_train, cv=5)\n",
    "#Gaussian Process\n",
    "kernel = 1.0 * RBF(1.0)\n",
    "gp = GaussianProcessClassifier(kernel=kernel, random_state=0)\n",
    "cross_val_GP = cross_val_score(gp, X_train, Y_train, cv=5)\n",
    "\n",
    "cross_val = [cross_val_NB, cross_val_LR, cross_val_KN, cross_val_RF, cross_val_XG, cross_val_SV, cross_val_NN, cross_val_GP]"
   ]
  },
  {
   "cell_type": "code",
   "execution_count": 99,
   "metadata": {
    "execution": {
     "iopub.execute_input": "2021-05-24T13:33:25.481007Z",
     "iopub.status.busy": "2021-05-24T13:33:25.480577Z",
     "iopub.status.idle": "2021-05-24T13:33:25.518758Z",
     "shell.execute_reply": "2021-05-24T13:33:25.517539Z",
     "shell.execute_reply.started": "2021-05-24T13:33:25.480964Z"
    }
   },
   "outputs": [
    {
     "name": "stdout",
     "output_type": "stream",
     "text": [
      "Naive Bayes: \n",
      "[0.68539326 0.69662921 0.71910112 0.71910112 0.75141243]\n",
      "0.714327429695931\n",
      "-------------------\n",
      "Logistic Regression: \n",
      "[0.79775281 0.79213483 0.79775281 0.79213483 0.82485876]\n",
      "0.8009268075922048\n",
      "-------------------\n",
      "K Nearest Neighbours: \n",
      "[0.79213483 0.78089888 0.83707865 0.81460674 0.83050847]\n",
      "0.8110455151399734\n",
      "-------------------\n",
      "Random Forest: \n",
      "[0.76966292 0.78651685 0.83146067 0.75280899 0.83615819]\n",
      "0.7953215260585285\n",
      "-------------------\n",
      "XGBoost: \n",
      "[0.79775281 0.80898876 0.85955056 0.78651685 0.85310734]\n",
      "0.8211832666793628\n",
      "-------------------\n",
      "Support Vector: \n",
      "[0.8258427  0.81460674 0.80898876 0.80898876 0.85875706]\n",
      "0.8234368056878056\n",
      "-------------------\n",
      "Neural Network: \n",
      "[0.80337079 0.80898876 0.84269663 0.80337079 0.89265537]\n",
      "0.8302164667047546\n",
      "-------------------\n",
      "Gaussian Process: \n",
      "[0.80337079 0.80337079 0.8258427  0.83146067 0.87570621]\n",
      "0.8279502317018981\n",
      "-------------------\n"
     ]
    }
   ],
   "source": [
    "print('Naive Bayes: ')\n",
    "print(cross_val_NB)\n",
    "print(cross_val_NB.mean())\n",
    "print('-------------------')\n",
    "print('Logistic Regression: ')\n",
    "print(cross_val_LR)\n",
    "print(cross_val_LR.mean())\n",
    "print('-------------------')\n",
    "print('K Nearest Neighbours: ')\n",
    "print(cross_val_KN)\n",
    "print(cross_val_KN.mean())\n",
    "print('-------------------')\n",
    "print('Random Forest: ')\n",
    "print(cross_val_RF)\n",
    "print(cross_val_RF.mean())\n",
    "print('-------------------')\n",
    "print('XGBoost: ')\n",
    "print(cross_val_XG)\n",
    "print(cross_val_XG.mean())\n",
    "print('-------------------')\n",
    "print('Support Vector: ')\n",
    "print(cross_val_SV)\n",
    "print(cross_val_SV.mean())\n",
    "print('-------------------')\n",
    "print('Neural Network: ')\n",
    "print(cross_val_NN)\n",
    "print(cross_val_NN.mean())\n",
    "print('-------------------')\n",
    "print('Gaussian Process: ')\n",
    "print(cross_val_GP)\n",
    "print(cross_val_GP.mean())\n",
    "print('-------------------')"
   ]
  },
  {
   "cell_type": "code",
   "execution_count": 100,
   "metadata": {
    "execution": {
     "iopub.execute_input": "2021-05-24T13:33:25.522582Z",
     "iopub.status.busy": "2021-05-24T13:33:25.520539Z",
     "iopub.status.idle": "2021-05-24T13:33:25.531603Z",
     "shell.execute_reply": "2021-05-24T13:33:25.530325Z",
     "shell.execute_reply.started": "2021-05-24T13:33:25.522528Z"
    }
   },
   "outputs": [],
   "source": [
    "X_test['cabin_heading_T'] = 0\n",
    "\n",
    "# We note that the there are no passengers in the test set from cabin with heading T.\n",
    "# However, our classifier requires the same columns. Hence, we add the column in."
   ]
  },
  {
   "cell_type": "code",
   "execution_count": 101,
   "metadata": {
    "execution": {
     "iopub.execute_input": "2021-05-24T13:33:25.535171Z",
     "iopub.status.busy": "2021-05-24T13:33:25.533323Z",
     "iopub.status.idle": "2021-05-24T13:33:34.488557Z",
     "shell.execute_reply": "2021-05-24T13:33:34.487577Z",
     "shell.execute_reply.started": "2021-05-24T13:33:25.535122Z"
    }
   },
   "outputs": [],
   "source": [
    "chosen_classifier = GaussianProcessClassifier(kernel=kernel, random_state=0)\n",
    "chosen_classifier.fit(X_train, Y_train)\n",
    "Y_test = chosen_classifier.predict(X_test).astype(int)"
   ]
  },
  {
   "cell_type": "code",
   "execution_count": 102,
   "metadata": {
    "execution": {
     "iopub.execute_input": "2021-05-24T13:33:34.496508Z",
     "iopub.status.busy": "2021-05-24T13:33:34.493835Z",
     "iopub.status.idle": "2021-05-24T13:33:34.523395Z",
     "shell.execute_reply": "2021-05-24T13:33:34.522365Z",
     "shell.execute_reply.started": "2021-05-24T13:33:34.496446Z"
    }
   },
   "outputs": [
    {
     "data": {
      "text/html": [
       "<div>\n",
       "<style scoped>\n",
       "    .dataframe tbody tr th:only-of-type {\n",
       "        vertical-align: middle;\n",
       "    }\n",
       "\n",
       "    .dataframe tbody tr th {\n",
       "        vertical-align: top;\n",
       "    }\n",
       "\n",
       "    .dataframe thead th {\n",
       "        text-align: right;\n",
       "    }\n",
       "</style>\n",
       "<table border=\"1\" class=\"dataframe\">\n",
       "  <thead>\n",
       "    <tr style=\"text-align: right;\">\n",
       "      <th></th>\n",
       "      <th>PassengerId</th>\n",
       "      <th>Survived</th>\n",
       "    </tr>\n",
       "  </thead>\n",
       "  <tbody>\n",
       "    <tr>\n",
       "      <th>0</th>\n",
       "      <td>892</td>\n",
       "      <td>0</td>\n",
       "    </tr>\n",
       "    <tr>\n",
       "      <th>1</th>\n",
       "      <td>893</td>\n",
       "      <td>1</td>\n",
       "    </tr>\n",
       "    <tr>\n",
       "      <th>2</th>\n",
       "      <td>894</td>\n",
       "      <td>0</td>\n",
       "    </tr>\n",
       "    <tr>\n",
       "      <th>3</th>\n",
       "      <td>895</td>\n",
       "      <td>0</td>\n",
       "    </tr>\n",
       "    <tr>\n",
       "      <th>4</th>\n",
       "      <td>896</td>\n",
       "      <td>1</td>\n",
       "    </tr>\n",
       "    <tr>\n",
       "      <th>...</th>\n",
       "      <td>...</td>\n",
       "      <td>...</td>\n",
       "    </tr>\n",
       "    <tr>\n",
       "      <th>413</th>\n",
       "      <td>1305</td>\n",
       "      <td>0</td>\n",
       "    </tr>\n",
       "    <tr>\n",
       "      <th>414</th>\n",
       "      <td>1306</td>\n",
       "      <td>1</td>\n",
       "    </tr>\n",
       "    <tr>\n",
       "      <th>415</th>\n",
       "      <td>1307</td>\n",
       "      <td>0</td>\n",
       "    </tr>\n",
       "    <tr>\n",
       "      <th>416</th>\n",
       "      <td>1308</td>\n",
       "      <td>0</td>\n",
       "    </tr>\n",
       "    <tr>\n",
       "      <th>417</th>\n",
       "      <td>1309</td>\n",
       "      <td>0</td>\n",
       "    </tr>\n",
       "  </tbody>\n",
       "</table>\n",
       "<p>418 rows × 2 columns</p>\n",
       "</div>"
      ],
      "text/plain": [
       "     PassengerId  Survived\n",
       "0            892         0\n",
       "1            893         1\n",
       "2            894         0\n",
       "3            895         0\n",
       "4            896         1\n",
       "..           ...       ...\n",
       "413         1305         0\n",
       "414         1306         1\n",
       "415         1307         0\n",
       "416         1308         0\n",
       "417         1309         0\n",
       "\n",
       "[418 rows x 2 columns]"
      ]
     },
     "execution_count": 102,
     "metadata": {},
     "output_type": "execute_result"
    }
   ],
   "source": [
    "#test.columns\n",
    "\n",
    "result = pd.DataFrame()\n",
    "result['PassengerId'] = test.PassengerId\n",
    "result['Survived'] = Y_test\n",
    "result.to_csv('result.csv', index = False)\n",
    "result"
   ]
  },
  {
   "cell_type": "code",
   "execution_count": 103,
   "metadata": {
    "execution": {
     "iopub.execute_input": "2021-05-24T13:33:34.531275Z",
     "iopub.status.busy": "2021-05-24T13:33:34.528597Z",
     "iopub.status.idle": "2021-05-24T13:34:10.382081Z",
     "shell.execute_reply": "2021-05-24T13:34:10.381040Z",
     "shell.execute_reply.started": "2021-05-24T13:33:34.531213Z"
    }
   },
   "outputs": [
    {
     "name": "stderr",
     "output_type": "stream",
     "text": [
      "/opt/conda/lib/python3.7/site-packages/xgboost/sklearn.py:1146: UserWarning: The use of label encoder in XGBClassifier is deprecated and will be removed in a future release. To remove this warning, do the following: 1) Pass option use_label_encoder=False when constructing XGBClassifier object; and 2) Encode your labels (y) as integers starting with 0, i.e. 0, 1, 2, ..., [num_class - 1].\n",
      "  warnings.warn(label_encoder_deprecation_msg, UserWarning)\n"
     ]
    },
    {
     "name": "stdout",
     "output_type": "stream",
     "text": [
      "[13:33:34] WARNING: ../src/learner.cc:1095: Starting in XGBoost 1.3.0, the default evaluation metric used with the objective 'binary:logistic' was changed from 'error' to 'logloss'. Explicitly set eval_metric if you'd like to restore the old behavior.\n"
     ]
    },
    {
     "name": "stderr",
     "output_type": "stream",
     "text": [
      "/opt/conda/lib/python3.7/site-packages/sklearn/neural_network/_multilayer_perceptron.py:617: ConvergenceWarning: Stochastic Optimizer: Maximum iterations (200) reached and the optimization hasn't converged yet.\n",
      "  % self.max_iter, ConvergenceWarning)\n",
      "/opt/conda/lib/python3.7/site-packages/xgboost/data.py:114: UserWarning: Use subset (sliced data) of np.ndarray is not recommended because it will generate extra copies and increase memory consumption\n",
      "  \"because it will generate extra copies and increase \" +\n",
      "/opt/conda/lib/python3.7/site-packages/xgboost/sklearn.py:1146: UserWarning: The use of label encoder in XGBClassifier is deprecated and will be removed in a future release. To remove this warning, do the following: 1) Pass option use_label_encoder=False when constructing XGBClassifier object; and 2) Encode your labels (y) as integers starting with 0, i.e. 0, 1, 2, ..., [num_class - 1].\n",
      "  warnings.warn(label_encoder_deprecation_msg, UserWarning)\n"
     ]
    },
    {
     "name": "stdout",
     "output_type": "stream",
     "text": [
      "[13:33:42] WARNING: ../src/learner.cc:1095: Starting in XGBoost 1.3.0, the default evaluation metric used with the objective 'binary:logistic' was changed from 'error' to 'logloss'. Explicitly set eval_metric if you'd like to restore the old behavior.\n"
     ]
    },
    {
     "name": "stderr",
     "output_type": "stream",
     "text": [
      "/opt/conda/lib/python3.7/site-packages/sklearn/neural_network/_multilayer_perceptron.py:617: ConvergenceWarning: Stochastic Optimizer: Maximum iterations (200) reached and the optimization hasn't converged yet.\n",
      "  % self.max_iter, ConvergenceWarning)\n",
      "/opt/conda/lib/python3.7/site-packages/xgboost/data.py:114: UserWarning: Use subset (sliced data) of np.ndarray is not recommended because it will generate extra copies and increase memory consumption\n",
      "  \"because it will generate extra copies and increase \" +\n",
      "/opt/conda/lib/python3.7/site-packages/xgboost/sklearn.py:1146: UserWarning: The use of label encoder in XGBClassifier is deprecated and will be removed in a future release. To remove this warning, do the following: 1) Pass option use_label_encoder=False when constructing XGBClassifier object; and 2) Encode your labels (y) as integers starting with 0, i.e. 0, 1, 2, ..., [num_class - 1].\n",
      "  warnings.warn(label_encoder_deprecation_msg, UserWarning)\n"
     ]
    },
    {
     "name": "stdout",
     "output_type": "stream",
     "text": [
      "[13:33:49] WARNING: ../src/learner.cc:1095: Starting in XGBoost 1.3.0, the default evaluation metric used with the objective 'binary:logistic' was changed from 'error' to 'logloss'. Explicitly set eval_metric if you'd like to restore the old behavior.\n"
     ]
    },
    {
     "name": "stderr",
     "output_type": "stream",
     "text": [
      "/opt/conda/lib/python3.7/site-packages/sklearn/neural_network/_multilayer_perceptron.py:617: ConvergenceWarning: Stochastic Optimizer: Maximum iterations (200) reached and the optimization hasn't converged yet.\n",
      "  % self.max_iter, ConvergenceWarning)\n",
      "/opt/conda/lib/python3.7/site-packages/xgboost/data.py:114: UserWarning: Use subset (sliced data) of np.ndarray is not recommended because it will generate extra copies and increase memory consumption\n",
      "  \"because it will generate extra copies and increase \" +\n",
      "/opt/conda/lib/python3.7/site-packages/xgboost/sklearn.py:1146: UserWarning: The use of label encoder in XGBClassifier is deprecated and will be removed in a future release. To remove this warning, do the following: 1) Pass option use_label_encoder=False when constructing XGBClassifier object; and 2) Encode your labels (y) as integers starting with 0, i.e. 0, 1, 2, ..., [num_class - 1].\n",
      "  warnings.warn(label_encoder_deprecation_msg, UserWarning)\n"
     ]
    },
    {
     "name": "stdout",
     "output_type": "stream",
     "text": [
      "[13:33:57] WARNING: ../src/learner.cc:1095: Starting in XGBoost 1.3.0, the default evaluation metric used with the objective 'binary:logistic' was changed from 'error' to 'logloss'. Explicitly set eval_metric if you'd like to restore the old behavior.\n"
     ]
    },
    {
     "name": "stderr",
     "output_type": "stream",
     "text": [
      "/opt/conda/lib/python3.7/site-packages/sklearn/neural_network/_multilayer_perceptron.py:617: ConvergenceWarning: Stochastic Optimizer: Maximum iterations (200) reached and the optimization hasn't converged yet.\n",
      "  % self.max_iter, ConvergenceWarning)\n",
      "/opt/conda/lib/python3.7/site-packages/xgboost/data.py:114: UserWarning: Use subset (sliced data) of np.ndarray is not recommended because it will generate extra copies and increase memory consumption\n",
      "  \"because it will generate extra copies and increase \" +\n",
      "/opt/conda/lib/python3.7/site-packages/xgboost/sklearn.py:1146: UserWarning: The use of label encoder in XGBClassifier is deprecated and will be removed in a future release. To remove this warning, do the following: 1) Pass option use_label_encoder=False when constructing XGBClassifier object; and 2) Encode your labels (y) as integers starting with 0, i.e. 0, 1, 2, ..., [num_class - 1].\n",
      "  warnings.warn(label_encoder_deprecation_msg, UserWarning)\n"
     ]
    },
    {
     "name": "stdout",
     "output_type": "stream",
     "text": [
      "[13:34:04] WARNING: ../src/learner.cc:1095: Starting in XGBoost 1.3.0, the default evaluation metric used with the objective 'binary:logistic' was changed from 'error' to 'logloss'. Explicitly set eval_metric if you'd like to restore the old behavior.\n"
     ]
    },
    {
     "name": "stderr",
     "output_type": "stream",
     "text": [
      "/opt/conda/lib/python3.7/site-packages/sklearn/neural_network/_multilayer_perceptron.py:617: ConvergenceWarning: Stochastic Optimizer: Maximum iterations (200) reached and the optimization hasn't converged yet.\n",
      "  % self.max_iter, ConvergenceWarning)\n",
      "/opt/conda/lib/python3.7/site-packages/xgboost/data.py:114: UserWarning: Use subset (sliced data) of np.ndarray is not recommended because it will generate extra copies and increase memory consumption\n",
      "  \"because it will generate extra copies and increase \" +\n"
     ]
    }
   ],
   "source": [
    "from sklearn.ensemble import VotingClassifier\n",
    "voting_clf = VotingClassifier(estimators = [('lr',lr),('kn',kn),('rf',rf),('gnb',gnb),('sv',sv),('xg',xg),('nn',nn),('gp',gp)], voting = 'soft') \n",
    "cross_val_clf = cross_val_score(voting_clf, X_train, Y_train, cv=5)\n"
   ]
  }
 ],
 "metadata": {
  "kernelspec": {
   "display_name": "Python 3",
   "language": "python",
   "name": "python3"
  },
  "language_info": {
   "codemirror_mode": {
    "name": "ipython",
    "version": 3
   },
   "file_extension": ".py",
   "mimetype": "text/x-python",
   "name": "python",
   "nbconvert_exporter": "python",
   "pygments_lexer": "ipython3",
   "version": "3.8.8"
  }
 },
 "nbformat": 4,
 "nbformat_minor": 4
}
